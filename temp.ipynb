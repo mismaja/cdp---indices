{
 "metadata": {
  "language_info": {
   "codemirror_mode": {
    "name": "ipython",
    "version": 3
   },
   "file_extension": ".py",
   "mimetype": "text/x-python",
   "name": "python",
   "nbconvert_exporter": "python",
   "pygments_lexer": "ipython3",
   "version": "3.6.6-final"
  },
  "orig_nbformat": 2,
  "kernelspec": {
   "name": "python3",
   "display_name": "Python 3",
   "language": "python"
  }
 },
 "nbformat": 4,
 "nbformat_minor": 2,
 "cells": [
  {
   "source": [
    "Pobieramy dane. Alternatywnie z zapisanego pliku lokalnie.\n",
    "Źródło danych: (GPW) https://www.gpw.pl/archiwum-notowan "
   ],
   "cell_type": "markdown",
   "metadata": {}
  },
  {
   "cell_type": "code",
   "execution_count": null,
   "metadata": {},
   "outputs": [],
   "source": [
    "import pandas as pd\n",
    "import numpy as np\n",
    "\n",
    "# get data\n",
    "url = 'https://drive.google.com/file/d/1VfvaefBkfg0fvEkDwgBep10Vs3T5egWH/view?usp=sharing'\n",
    "path = 'https://drive.google.com/uc?export=download&id='+url.split('/')[-2]\n",
    "\n",
    "df = pd.read_csv(path)\n",
    "df['Data'] = pd.to_datetime(df['Data'])\n",
    "df = df.set_index('Data')"
   ]
  },
  {
   "source": [
    "Definicja funkcji RSI"
   ],
   "cell_type": "markdown",
   "metadata": {}
  },
  {
   "cell_type": "code",
   "execution_count": null,
   "metadata": {},
   "outputs": [],
   "source": [
    "### by Jev //\n",
    "def rsi(price, n=14):\n",
    "    # calculate price gain with previous day, first row nan is filled with 0\n",
    "    gain = (price-price.shift(1)).fillna(0) \n",
    "    def rsiCalc(p):\n",
    "        # subfunction for calculating rsi for one lookback period\n",
    "        avgGain = p[p>0].sum()/n\n",
    "        avgLoss = -p[p<0].sum()/n \n",
    "        rs = avgGain/avgLoss\n",
    "        return 100 - 100/(1+rs)\n",
    "\n",
    "    # run for all periods with rolling_apply\n",
    "    return gain.rolling(n).apply(rsiCalc) "
   ]
  },
  {
   "cell_type": "code",
   "execution_count": null,
   "metadata": {},
   "outputs": [],
   "source": [
    "import matplotlib.pyplot as plt\n",
    "from matplotlib import gridspec \n",
    "\n",
    "mask = df.index > '2020-01-01'\n",
    "df['rsi'] = rsi(df['close'])\n",
    "\n",
    "# create grid for different subplots\n",
    "spec = gridspec.GridSpec(ncols=1, nrows=2, width_ratios=[1],wspace=0.5,hspace=0.2, height_ratios=[3,1])\n",
    "\n",
    "# create a figure \n",
    "fig = plt.figure(figsize=[10,10]) \n",
    "ax0 = fig.add_subplot(spec[0]) \n",
    "ax1 = fig.add_subplot(spec[1]) \n",
    "ax1.set_yticks([30, 70])\n",
    "ax0.set(title='CLOSE CDR')\n",
    "ax1.set(title='RSI len=14')\n",
    "\n",
    "ax0.plot(df['close'][mask])\n",
    "ax1.plot(df['rsi'][mask])\n",
    "ax1.yaxis.grid(True)"
   ]
  },
  {
   "source": [
    "Przykładowa strategia RSI\n",
    "RSI rozne dlugosci / 30 / 70"
   ],
   "cell_type": "markdown",
   "metadata": {}
  },
  {
   "cell_type": "code",
   "execution_count": null,
   "metadata": {},
   "outputs": [],
   "source": [
    "for l in range(10, 20, 1):\n",
    "    dr = df[df.index > '2019-01-01']\n",
    "    dr['rsi'] = rsi(dr['close'], l)\n",
    "\n",
    "    positive_mask = (dr['rsi']>30) & (dr['rsi']<70) \n",
    "    buy_mask = positive_mask & ~positive_mask.shift(periods=1).fillna(False)\n",
    "    close_buy_mask = positive_mask & ~positive_mask.shift(periods=-1).fillna(False)\n",
    "\n",
    "    #gain %\n",
    "    gain = np.sum((dr['close'].loc[close_buy_mask].to_numpy()-dr['close'].loc[buy_mask].to_numpy()[:np.sum(close_buy_mask)])/dr['close'].loc[buy_mask].to_numpy()[:np.sum(close_buy_mask)])\n",
    "\n",
    "    print('rsi len:%d  gain:%.2f%%  num_trans:%d' %(l, 100*gain, np.sum(close_buy_mask)))"
   ]
  },
  {
   "source": [
    "Strategia: kupuj gdy krus przecina srednia o dlugosci len."
   ],
   "cell_type": "markdown",
   "metadata": {}
  },
  {
   "cell_type": "code",
   "execution_count": null,
   "metadata": {},
   "outputs": [],
   "source": [
    "dr = df[df.index > '2019-01-01']\n",
    "\n",
    "for l in range(10, 100, 10):\n",
    "\n",
    "    dr['avg'] = df['close'].rolling(window=l).mean()[df.index > '2019-01-01']\n",
    "\n",
    "    positive_mask = (dr['close'] > dr['avg']) \n",
    "    buy_mask = positive_mask & ~positive_mask.shift(periods=1).fillna(False)\n",
    "    close_buy_mask = ~positive_mask & positive_mask.shift(periods=1).fillna(False)\n",
    "\n",
    "    #gain %\n",
    "    gain = np.sum(dr['close'].loc[close_buy_mask].to_numpy() / dr['close'].loc[buy_mask].to_numpy()[:np.sum(close_buy_mask)] - 1)\n",
    "\n",
    "    print('len:%d  gain:%.2f%%  num_trans:%d' %(l, 100*gain, np.sum(close_buy_mask)))"
   ]
  },
  {
   "source": [
    "Znajdz 2 srednie, ktorych przeciecie daloby najlepsze rezultaty"
   ],
   "cell_type": "markdown",
   "metadata": {}
  },
  {
   "cell_type": "code",
   "execution_count": null,
   "metadata": {},
   "outputs": [],
   "source": [
    "dr = df[df.index > '2019-01-01']\n",
    "maxgain = 0\n",
    "for len_slow in range(10, 100, 10):\n",
    "    for len_fast in range(5, 100, 5):\n",
    "        if len_fast >= len_slow:\n",
    "            continue\n",
    "\n",
    "        dr['avg_fast'] = df['close'].rolling(window=len_fast).mean()[df.index > '2019-01-01']\n",
    "        dr['avg_slow'] = df['close'].rolling(window=len_slow).mean()[df.index > '2019-01-01']\n",
    "\n",
    "        positive_mask = (dr['avg_fast'] > dr['avg_slow']) \n",
    "        buy_mask = positive_mask & ~positive_mask.shift(periods=1).fillna(False)\n",
    "        close_buy_mask = ~positive_mask & positive_mask.shift(periods=1).fillna(False)\n",
    "\n",
    "        #gain %\n",
    "        gain = np.sum(dr['close'].loc[close_buy_mask].to_numpy() / dr['close'].loc[buy_mask].to_numpy()[:np.sum(close_buy_mask)] - 1)\n",
    "        if gain > maxgain:\n",
    "            maxgain = gain\n",
    "            print('New max! len_slow:%d  len_fast:%d  gain:%.2f%%  num_trans:%d' %(len_slow, len_fast, 100*gain, np.sum(close_buy_mask)))"
   ]
  },
  {
   "source": [
    "wykres + transkacje dla  len_slow:60 len_fast:40"
   ],
   "cell_type": "markdown",
   "metadata": {}
  },
  {
   "cell_type": "code",
   "execution_count": null,
   "metadata": {},
   "outputs": [],
   "source": [
    "maxgain = 0\n",
    "len_fast = 40\n",
    "len_slow = 60\n",
    "dr['avg_fast'] = df['close'].rolling(window=len_fast).mean()[df.index > '2019-01-01']\n",
    "dr['avg_slow'] = df['close'].rolling(window=len_slow).mean()[df.index > '2019-01-01']\n",
    "\n",
    "positive_mask = (dr['avg_fast'] > dr['avg_slow']) \n",
    "buy_mask = positive_mask & ~positive_mask.shift(periods=1).fillna(False)\n",
    "close_buy_mask = ~positive_mask & positive_mask.shift(periods=1).fillna(False)\n",
    "\n",
    "#gain %\n",
    "gain = np.sum(dr['close'].loc[close_buy_mask].to_numpy() / dr['close'].loc[buy_mask].to_numpy()[:np.sum(close_buy_mask)] - 1)\n",
    "if gain > maxgain:\n",
    "    maxgain = gain\n",
    "    print('New max! len_slow:%d  len_fast:%d  gain:%.2f%%  num_trans:%d' %(len_slow, len_fast, 100*gain, np.sum(close_buy_mask)))\n",
    "\n",
    "#wykres\n",
    "tmp = pd.concat([dr[['close', 'avg_fast', 'avg_slow']], pd.DataFrame(buy_mask, columns=['buy']).replace({False:np.nan, True:1}), pd.DataFrame(close_buy_mask, columns=['close_buy']).replace({False:np.nan, True:1})], axis=1)\n",
    "tmp['buy'] = tmp['buy'] * tmp['close']\n",
    "tmp['close_buy'] = tmp['close_buy'] * tmp['close']\n",
    "tmp[['close', 'avg_fast', 'avg_slow']].plot()\n",
    "tmp['close_buy'].plot(style='or')\n",
    "tmp['buy'].plot(style='og')    "
   ]
  },
  {
   "cell_type": "code",
   "execution_count": null,
   "metadata": {},
   "outputs": [],
   "source": [
    "# transakcje LONG\n",
    "newdf = pd.DataFrame(tmp['buy'][~tmp['buy'].isna()])\n",
    "newdf['close_buy'] = tmp['close_buy'][~tmp['close_buy'].isna()].to_numpy()\n",
    "newdf['gain%'] = round(100 * (newdf['close_buy'] / newdf['buy'] - 1), 2)\n",
    "newdf['buy_date'] = tmp.index[~tmp['buy'].isna()]\n",
    "newdf['close_date'] = tmp.index[~tmp['close_buy'].isna()]\n",
    "newdf"
   ]
  },
  {
   "source": [
    "SHORT"
   ],
   "cell_type": "markdown",
   "metadata": {}
  },
  {
   "cell_type": "code",
   "execution_count": null,
   "metadata": {},
   "outputs": [],
   "source": [
    "negative_mask = (dr['avg_fast'] < dr['avg_slow']) \n",
    "sell_mask = negative_mask & ~negative_mask.shift(periods=1).fillna(False)\n",
    "close_sell_mask = ~negative_mask & negative_mask.shift(periods=1).fillna(False)\n",
    "\n",
    "#gain %\n",
    "if np.sum(sell_mask) > np.sum(close_sell_mask):\n",
    "    #sztucznie zamykamy ostatnią transkację ostatniego dnia\n",
    "    close_sell_mask[-1] = True\n",
    "\n",
    "gain = np.sum(-(dr['close'].loc[close_sell_mask].to_numpy() / dr['close'].loc[sell_mask].to_numpy() - 1))\n",
    "\n",
    "print(100*gain)"
   ]
  },
  {
   "cell_type": "code",
   "execution_count": null,
   "metadata": {},
   "outputs": [],
   "source": [
    "# transakcje SHORT\n",
    "newdf = pd.DataFrame(tmp['close'][sell_mask])\n",
    "newdf['close_sell'] = tmp['close'][close_sell_mask].to_numpy()\n",
    "newdf['gain%'] = round(-100 * (newdf['close_sell'] / newdf['close'] - 1), 2)\n",
    "newdf['sell_date'] = tmp.index[sell_mask]\n",
    "newdf['close_date'] = tmp.index[close_sell_mask]\n",
    "newdf"
   ]
  },
  {
   "source": [
    "EMA"
   ],
   "cell_type": "markdown",
   "metadata": {}
  },
  {
   "cell_type": "code",
   "execution_count": null,
   "metadata": {},
   "outputs": [],
   "source": [
    "dr = df[df.index > '2019-01-01']\n",
    "maxgain = 0\n",
    "for len_slow in range(10, 100, 10):\n",
    "    for len_fast in range(5, 100, 5):\n",
    "        if len_fast >= len_slow:\n",
    "            continue\n",
    "\n",
    "        dr['avg_fast'] = df['close'].ewm(halflife=len_fast).mean()[df.index > '2019-01-01']\n",
    "        dr['avg_slow'] = df['close'].ewm(halflife=len_slow).mean()[df.index > '2019-01-01']\n",
    "\n",
    "        positive_mask = (dr['avg_fast'] > dr['avg_slow']) \n",
    "        buy_mask = positive_mask & ~positive_mask.shift(periods=1).fillna(False)\n",
    "        close_buy_mask = ~positive_mask & positive_mask.shift(periods=1).fillna(False)\n",
    "\n",
    "        #gain %\n",
    "        gain = np.sum(dr['close'].loc[close_buy_mask].to_numpy() / dr['close'].loc[buy_mask].to_numpy()[:np.sum(close_buy_mask)] - 1)\n",
    "        if gain > maxgain:\n",
    "            maxgain = gain\n",
    "            print('New max! len_slow:%d  len_fast:%d  gain:%.2f%%  num_trans:%d' %(len_slow, len_fast, 100*gain, np.sum(close_buy_mask)))"
   ]
  },
  {
   "source": [
    "Rozkład normalny przypadkowych zmian"
   ],
   "cell_type": "markdown",
   "metadata": {}
  },
  {
   "cell_type": "code",
   "execution_count": null,
   "metadata": {},
   "outputs": [],
   "source": [
    "dr = df[df.index>'2019-01-01']\n",
    "\n",
    "np.random.seed(1) #seed numpy to have same initialized weitghts\n",
    "random_chng = np.random.normal(0, 0.1, dr.shape[0])\n",
    "\n",
    "dr['rand_changes'] = random_chng\n",
    "dr['rand_changes'].plot.hist(legend=True)"
   ]
  },
  {
   "source": [
    "rozkład częstości zmian dla rzeczywistego kursu"
   ],
   "cell_type": "markdown",
   "metadata": {}
  },
  {
   "cell_type": "code",
   "execution_count": null,
   "metadata": {},
   "outputs": [],
   "source": [
    "dr = df[df.index > '2019-01-01']\n",
    "dr['close'].pct_change().fillna(0).plot.hist()"
   ]
  },
  {
   "source": [
    "Sztucznie wygenerowany \"kurs\""
   ],
   "cell_type": "markdown",
   "metadata": {}
  },
  {
   "cell_type": "code",
   "execution_count": null,
   "metadata": {},
   "outputs": [],
   "source": [
    "random_close = np.zeros(len(dr))\n",
    "random_close[0] = dr['close'][0]\n",
    "for i in range(1, len(random_close)):\n",
    "    random_close[i] = random_close[i-1] * (1 + random_chng[i])\n",
    "dr['random_close'] =  random_close\n",
    "dr['random_close'].plot(legend=True)"
   ]
  },
  {
   "source": [
    "Znajdz 2 srednie, ktorych przeciecie daloby najlepsze rezultaty dla randomowego kursu"
   ],
   "cell_type": "markdown",
   "metadata": {}
  },
  {
   "cell_type": "code",
   "execution_count": null,
   "metadata": {},
   "outputs": [],
   "source": [
    "maxgain = 0\n",
    "for len_slow in range(10, 100, 10):\n",
    "    for len_fast in range(5, 100, 5):\n",
    "        if len_fast >= len_slow:\n",
    "            continue\n",
    "\n",
    "        dr['avg_fast'] = dr['random_close'].rolling(window=len_fast).mean()\n",
    "        dr['avg_slow'] = dr['random_close'].rolling(window=len_slow).mean()\n",
    "\n",
    "        positive_mask = (dr['avg_fast'] > dr['avg_slow']) \n",
    "        buy_mask = positive_mask & ~positive_mask.shift(periods=1).fillna(False)\n",
    "        close_buy_mask = ~positive_mask & positive_mask.shift(periods=1).fillna(False)\n",
    "\n",
    "        #gain %\n",
    "        gain = np.sum(dr['random_close'].loc[close_buy_mask].to_numpy() / dr['random_close'].loc[buy_mask].to_numpy()[:np.sum(close_buy_mask)] - 1)\n",
    "        if gain > maxgain:\n",
    "            maxgain = gain\n",
    "            print('New max! len_slow:%d  len_fast:%d  gain:%.2f%%  num_trans:%d' %(len_slow, len_fast, 100*gain, np.sum(close_buy_mask)))"
   ]
  }
 ]
}